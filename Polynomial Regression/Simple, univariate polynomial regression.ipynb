{
 "cells": [
  {
   "cell_type": "markdown",
   "metadata": {},
   "source": [
    "The goal is to estimate the value of Y column (n x 1) by $\\hat{Y}$, where\n",
    "\\begin{equation}\n",
    "\\hat{Y} = \\sum_{i=1}^{p} \\beta_{i}*X^{i} + \\beta_{0}\n",
    "\\end{equation}\n",
    "where p is the degree of the polynomial."
   ]
  },
  {
   "cell_type": "code",
   "execution_count": 1,
   "metadata": {},
   "outputs": [
    {
     "ename": "SyntaxError",
     "evalue": "invalid syntax. Perhaps you forgot a comma? (576517331.py, line 5)",
     "output_type": "error",
     "traceback": [
      "\u001b[1;36m  Cell \u001b[1;32mIn[1], line 5\u001b[1;36m\u001b[0m\n\u001b[1;33m    def __init__(self,DataSet:np.ndarray, tar_var:int, predictor: int p:int, ) -> None:\u001b[0m\n\u001b[1;37m                                                                  ^\u001b[0m\n\u001b[1;31mSyntaxError\u001b[0m\u001b[1;31m:\u001b[0m invalid syntax. Perhaps you forgot a comma?\n"
     ]
    }
   ],
   "source": [
    "import numpy as np\n",
    "\n",
    "\n",
    "class PolynRegression():\n",
    "    def __init__(self,Dataset:np.ndarray, tar_var:int, predictor: int ,p:int, train_size, \n",
    "                 dx:float = 10**(-8), eps:float =  10**(-8), lr:float =  0.001 ) -> None:\n",
    "        \"\"\"Constructor of the Polynomial Regression. p is a fixed degree of the polynomial. Dataset is a dataset the regression is learning from.\n",
    "        predictor is the id of the predicting feature and tar_var is a predicted feature. Train_size is a fraction of the Dataset used for learning. 0 < train_size <=1\"\"\"\n",
    "        #the dataset we will be learning from.\n",
    "        self.Dataset = Dataset\n",
    "\n",
    "        #id of the targer variable\n",
    "        self.tar_var = tar_var\n",
    "        #id of the predictor\n",
    "        self.predictor = predictor\n",
    "        \n",
    "        #the degree of the polynomial.\n",
    "        self.p = p\n",
    "        #the size of training dataset.\n",
    "        self.train_size = train_size\n",
    "        #the size of testing dataset.\n",
    "        self.test_size = 1 - train_size\n",
    "        #the offset for derivatives.\n",
    "        self.dx = dx\n",
    "        #the division-by-zero preventing value.\n",
    "        self.eps = eps\n",
    "        #the learning rate.\n",
    "        self.lr = lr\n",
    "\n",
    "\n",
    "\n",
    "\n"
   ]
  },
  {
   "cell_type": "code",
   "execution_count": null,
   "metadata": {},
   "outputs": [],
   "source": []
  }
 ],
 "metadata": {
  "kernelspec": {
   "display_name": "Python 3",
   "language": "python",
   "name": "python3"
  },
  "language_info": {
   "codemirror_mode": {
    "name": "ipython",
    "version": 3
   },
   "file_extension": ".py",
   "mimetype": "text/x-python",
   "name": "python",
   "nbconvert_exporter": "python",
   "pygments_lexer": "ipython3",
   "version": "3.12.0"
  }
 },
 "nbformat": 4,
 "nbformat_minor": 2
}
